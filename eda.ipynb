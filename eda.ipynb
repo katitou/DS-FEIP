{
 "cells": [
  {
   "cell_type": "code",
   "execution_count": 1,
   "metadata": {},
   "outputs": [],
   "source": [
    "import pandas as pd\n",
    "import missingno as msno\n",
    "import matplotlib.pyplot as plt\n",
    "import seaborn as sns\n",
    "from lib.residental_data_source import ResidentialDataSource"
   ]
  },
  {
   "cell_type": "code",
   "execution_count": 2,
   "metadata": {},
   "outputs": [],
   "source": [
    "data_source = ResidentialDataSource('src/clean_data.csv')\n",
    "data_set = data_source.fetch_data_set()"
   ]
  },
  {
   "cell_type": "markdown",
   "metadata": {},
   "source": [
    "## Аномалии и выбросы"
   ]
  },
  {
   "cell_type": "code",
   "execution_count": 3,
   "metadata": {},
   "outputs": [
    {
     "name": "stdout",
     "output_type": "stream",
     "text": [
      "<class 'pandas.core.frame.DataFrame'>\n",
      "RangeIndex: 1607 entries, 0 to 1606\n",
      "Columns: 123 entries, Unnamed: 0.1 to Количество проданных нежилых помещений\n",
      "dtypes: float64(29), int64(40), object(54)\n",
      "memory usage: 1.5+ MB\n"
     ]
    }
   ],
   "source": [
    "\n",
    "data_set.info()"
   ]
  },
  {
   "cell_type": "code",
   "execution_count": 4,
   "metadata": {},
   "outputs": [
    {
     "data": {
      "text/plain": [
       "Unnamed: 0.1                                 0\n",
       "Unnamed: 0                                   0\n",
       "index()                                      0\n",
       "Регион                                       0\n",
       "Населенный пункт                             0\n",
       "                                          ... \n",
       "Количество проданных квартир               844\n",
       "Общая площадь проданных квартир            844\n",
       "Процент распроданности                     844\n",
       "Кумулятивная средняя стоимость кв.метра    844\n",
       "Количество проданных нежилых помещений     844\n",
       "Length: 123, dtype: int64"
      ]
     },
     "execution_count": 4,
     "metadata": {},
     "output_type": "execute_result"
    }
   ],
   "source": [
    "missing_values = data_set.isnull().sum()\n",
    "missing_values"
   ]
  },
  {
   "cell_type": "code",
   "execution_count": 5,
   "metadata": {},
   "outputs": [
    {
     "data": {
      "text/plain": [
       "count     1331.000\n",
       "mean       263.380\n",
       "std        357.527\n",
       "min          0.000\n",
       "25%         35.300\n",
       "50%        150.430\n",
       "75%        365.460\n",
       "max       4380.470\n",
       "Name: Продано квартир, м2, dtype: object"
      ]
     },
     "execution_count": 5,
     "metadata": {},
     "output_type": "execute_result"
    }
   ],
   "source": [
    "data_set['Продано квартир, м2'].describe().apply(lambda x: f\"{x: .3f}\")"
   ]
  },
  {
   "cell_type": "code",
   "execution_count": 6,
   "metadata": {},
   "outputs": [
    {
     "data": {
      "text/plain": [
       "count          1331.000\n",
       "mean       35095359.731\n",
       "std        45139228.627\n",
       "min               0.000\n",
       "25%         4440462.000\n",
       "50%        21380600.000\n",
       "75%        49662140.000\n",
       "max       428464100.000\n",
       "Name: Продано квартир, руб, dtype: object"
      ]
     },
     "execution_count": 6,
     "metadata": {},
     "output_type": "execute_result"
    }
   ],
   "source": [
    "data_set['Продано квартир, руб'].describe().apply(lambda x: f\"{x: .3f}\")"
   ]
  },
  {
   "cell_type": "markdown",
   "metadata": {},
   "source": [
    "<span style=\"color: red;\">Максимальные значения выбиваются на порядок, похоже на аномалию!! </span>"
   ]
  },
  {
   "cell_type": "markdown",
   "metadata": {},
   "source": [
    "## Пороги для отнесения значения к выбросам"
   ]
  },
  {
   "cell_type": "code",
   "execution_count": 7,
   "metadata": {},
   "outputs": [],
   "source": [
    "def calculate_outliers(data):\n",
    "\n",
    "    q25 = data.quantile(0.25)\n",
    "    q75 = data.quantile(0.75)\n",
    "    iqr = q75 - q25\n",
    "    lower_bound = q25 - 1.5 * iqr\n",
    "    upper_bound = q75 + 1.5 * iqr\n",
    "\n",
    "    print(f\"Нижняя граница: {lower_bound}\")\n",
    "    print(f\"Верхняя граница: {upper_bound}\")\n",
    "\n",
    "    outliers = (data < lower_bound) | (data > upper_bound)\n",
    "    print(f\"Количество выбросов: {outliers.sum()}\")\n",
    "    \n",
    "    # print(data_set[outliers])\n",
    "    \n",
    "    boundaries = (q25 - 1.5 * iqr, q75 + 1.5 * iqr)\n",
    "\n",
    "    return boundaries"
   ]
  },
  {
   "cell_type": "code",
   "execution_count": 8,
   "metadata": {},
   "outputs": [
    {
     "name": "stdout",
     "output_type": "stream",
     "text": [
      "Нижняя граница: -459.93999999999994\n",
      "Верхняя граница: 860.6999999999999\n",
      "Количество выбросов: 82\n"
     ]
    }
   ],
   "source": [
    "boundaries = calculate_outliers(data_set['Продано квартир, м2'])"
   ]
  },
  {
   "cell_type": "code",
   "execution_count": 18,
   "metadata": {},
   "outputs": [],
   "source": [
    "# замена выбросов на верхнюю границу\n",
    "\n",
    "\n",
    "def correcting_outlier(df, column, upper_bound):\n",
    "    df.loc[df[column] > upper_bound, column] = upper_bound\n",
    "    return df\n"
   ]
  },
  {
   "cell_type": "code",
   "execution_count": 10,
   "metadata": {},
   "outputs": [],
   "source": [
    "data = data_set.copy()\n",
    "data = correcting_outlier(data, 'Продано квартир, м2', boundaries[1] )"
   ]
  },
  {
   "cell_type": "code",
   "execution_count": 13,
   "metadata": {},
   "outputs": [
    {
     "name": "stdout",
     "output_type": "stream",
     "text": [
      "Нижняя граница: -63392055.0\n",
      "Верхняя граница: 117494657.0\n",
      "Количество выбросов: 74\n"
     ]
    }
   ],
   "source": [
    "boundaries_rub = calculate_outliers(data_set['Продано квартир, руб'])"
   ]
  },
  {
   "cell_type": "code",
   "execution_count": 14,
   "metadata": {},
   "outputs": [],
   "source": [
    "data = correcting_outlier(data, 'Продано квартир, руб', boundaries_rub[1] )"
   ]
  },
  {
   "cell_type": "markdown",
   "metadata": {},
   "source": [
    "## Проверка исправленных выбросов"
   ]
  },
  {
   "cell_type": "code",
   "execution_count": 17,
   "metadata": {},
   "outputs": [
    {
     "name": "stdout",
     "output_type": "stream",
     "text": [
      "Нижняя граница: -459.93999999999994\n",
      "Верхняя граница: 860.6999999999999\n",
      "Количество выбросов: 0\n"
     ]
    },
    {
     "data": {
      "text/plain": [
       "(np.float64(-459.93999999999994), np.float64(860.6999999999999))"
      ]
     },
     "execution_count": 17,
     "metadata": {},
     "output_type": "execute_result"
    }
   ],
   "source": [
    "calculate_outliers(data['Продано квартир, м2'])"
   ]
  },
  {
   "cell_type": "code",
   "execution_count": 16,
   "metadata": {},
   "outputs": [
    {
     "name": "stdout",
     "output_type": "stream",
     "text": [
      "Нижняя граница: -63392055.0\n",
      "Верхняя граница: 117494657.0\n",
      "Количество выбросов: 0\n"
     ]
    },
    {
     "data": {
      "text/plain": [
       "(np.float64(-63392055.0), np.float64(117494657.0))"
      ]
     },
     "execution_count": 16,
     "metadata": {},
     "output_type": "execute_result"
    }
   ],
   "source": [
    "calculate_outliers(data['Продано квартир, руб'])"
   ]
  }
 ],
 "metadata": {
  "kernelspec": {
   "display_name": "Python 3",
   "language": "python",
   "name": "python3"
  },
  "language_info": {
   "codemirror_mode": {
    "name": "ipython",
    "version": 3
   },
   "file_extension": ".py",
   "mimetype": "text/x-python",
   "name": "python",
   "nbconvert_exporter": "python",
   "pygments_lexer": "ipython3",
   "version": "3.12.4"
  }
 },
 "nbformat": 4,
 "nbformat_minor": 2
}
